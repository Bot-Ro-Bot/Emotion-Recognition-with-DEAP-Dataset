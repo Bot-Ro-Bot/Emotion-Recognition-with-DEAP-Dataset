{
 "cells": [
  {
   "cell_type": "code",
   "execution_count": 1,
   "metadata": {},
   "outputs": [],
   "source": [
    "import numpy as np\n",
    "from scipy.stats import skew, kurtosis"
   ]
  },
  {
   "cell_type": "code",
   "execution_count": 2,
   "metadata": {},
   "outputs": [],
   "source": [
    "class Features:\n",
    "    \n",
    "    def __init__(self, data):\n",
    "        self.data = data\n",
    "    \n",
    "    def mean(self):\n",
    "        return np.mean(self.data)\n",
    "    \n",
    "    def median(self):\n",
    "        return np.median(self.data)\n",
    "    \n",
    "    def maximum(self):\n",
    "        return np.max(self.data)\n",
    "    \n",
    "    def minimum(self):\n",
    "        return np.min(self.data)\n",
    "    \n",
    "    def std_dev(self):\n",
    "        return np.std(self.data)\n",
    "    \n",
    "    def variance(self):\n",
    "        return np.var(self.data)\n",
    "    \n",
    "    def data_range(self):\n",
    "        return np.ptp(self.data)\n",
    "    \n",
    "    def skewness(self):\n",
    "        return skew(self.data)\n",
    "    \n",
    "    def kurtosis(self):\n",
    "        return kurtosis(self.data)"
   ]
  },
  {
   "cell_type": "code",
   "execution_count": null,
   "metadata": {},
   "outputs": [],
   "source": []
  },
  {
   "cell_type": "code",
   "execution_count": 3,
   "metadata": {},
   "outputs": [
    {
     "name": "stdout",
     "output_type": "stream",
     "text": [
      "Mean: 0.017074458937685992\n",
      "Median: 0.02816545169486664\n",
      "Maximum: 2.2173551283266106\n",
      "Minimum: -1.7707089286449462\n",
      "Standard Deviation: 0.9302022977686266\n",
      "Variance: 0.8652763147740328\n",
      "Range: 3.988064056971557\n",
      "Skewness: 0.29714442223859244\n",
      "Kurtosis: -0.4944564504793525\n"
     ]
    }
   ],
   "source": [
    "data = np.random.randn(100)  \n",
    "\n",
    "features_calculator = Features(data)\n",
    "\n",
    "# Calculate statistical features\n",
    "mean_value = features_calculator.mean()\n",
    "median_value = features_calculator.median()\n",
    "max_value = features_calculator.maximum()\n",
    "min_value = features_calculator.minimum()\n",
    "std_deviation = features_calculator.std_dev()\n",
    "variance_value = features_calculator.variance()\n",
    "data_range_value = features_calculator.data_range()\n",
    "skewness_value = features_calculator.skewness()\n",
    "kurtosis_value = features_calculator.kurtosis()\n",
    "\n",
    "# Print the calculated values\n",
    "print(\"Mean:\", mean_value)\n",
    "print(\"Median:\", median_value)\n",
    "print(\"Maximum:\", max_value)\n",
    "print(\"Minimum:\", min_value)\n",
    "print(\"Standard Deviation:\", std_deviation)\n",
    "print(\"Variance:\", variance_value)\n",
    "print(\"Range:\", data_range_value)\n",
    "print(\"Skewness:\", skewness_value)\n",
    "print(\"Kurtosis:\", kurtosis_value)\n"
   ]
  },
  {
   "cell_type": "markdown",
   "metadata": {},
   "source": [
    "## External Libraries"
   ]
  },
  {
   "cell_type": "markdown",
   "metadata": {},
   "source": [
    "### PySiology \n",
    "\n",
    "https://link.springer.com/chapter/10.1007/978-981-13-8950-4_35"
   ]
  },
  {
   "cell_type": "markdown",
   "metadata": {},
   "source": [
    "Mostly for ECG, EDA, and respiration signals"
   ]
  },
  {
   "cell_type": "markdown",
   "metadata": {},
   "source": [
    "![Features](/Users/rabinnepal/Downloads/Screenshot 2023-12-11 at 8.47.19 PM.png)"
   ]
  },
  {
   "cell_type": "code",
   "execution_count": null,
   "metadata": {},
   "outputs": [],
   "source": []
  },
  {
   "cell_type": "markdown",
   "metadata": {},
   "source": [
    "### NeuroKit\n",
    "\n",
    "https://github.com/neuropsychology/NeuroKit"
   ]
  },
  {
   "cell_type": "markdown",
   "metadata": {},
   "source": [
    "### biosppy\n",
    "\n",
    "https://github.com/PIA-Group/BioSPPy\n",
    "\n",
    "\n",
    "Support for various biosignals: BVP, ECG, EDA, EEG, EMG, PCG, PPG, Respiration"
   ]
  },
  {
   "cell_type": "code",
   "execution_count": null,
   "metadata": {},
   "outputs": [],
   "source": []
  },
  {
   "cell_type": "code",
   "execution_count": null,
   "metadata": {},
   "outputs": [],
   "source": []
  },
  {
   "cell_type": "code",
   "execution_count": null,
   "metadata": {},
   "outputs": [],
   "source": []
  }
 ],
 "metadata": {
  "kernelspec": {
   "display_name": "mod_sel_env",
   "language": "python",
   "name": "python3"
  },
  "language_info": {
   "codemirror_mode": {
    "name": "ipython",
    "version": 3
   },
   "file_extension": ".py",
   "mimetype": "text/x-python",
   "name": "python",
   "nbconvert_exporter": "python",
   "pygments_lexer": "ipython3",
   "version": "3.8.18"
  }
 },
 "nbformat": 4,
 "nbformat_minor": 2
}
