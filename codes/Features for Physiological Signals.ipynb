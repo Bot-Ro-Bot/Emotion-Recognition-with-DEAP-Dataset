{
 "cells": [
  {
   "cell_type": "code",
   "execution_count": null,
   "metadata": {},
   "outputs": [],
   "source": [
    "import numpy as np\n",
    "from scipy.stats import skew, kurtosis"
   ]
  },
  {
   "cell_type": "code",
   "execution_count": null,
   "metadata": {},
   "outputs": [],
   "source": [
    "class Features:\n",
    "    \n",
    "    def __init__(self, data):\n",
    "        self.data = data\n",
    "    \n",
    "    def mean(self):\n",
    "        return np.mean(self.data)\n",
    "    \n",
    "    def median(self):\n",
    "        return np.median(self.data)\n",
    "    \n",
    "    def maximum(self):\n",
    "        return np.max(self.data)\n",
    "    \n",
    "    def minimum(self):\n",
    "        return np.min(self.data)\n",
    "    \n",
    "    def std_dev(self):\n",
    "        return np.std(self.data)\n",
    "    \n",
    "    def variance(self):\n",
    "        return np.var(self.data)\n",
    "    \n",
    "    def data_range(self):\n",
    "        return np.ptp(self.data)\n",
    "    \n",
    "    def skewness(self):\n",
    "        return skew(self.data)\n",
    "    \n",
    "    def kurtosis(self):\n",
    "        return kurtosis(self.data)"
   ]
  },
  {
   "cell_type": "code",
   "execution_count": null,
   "metadata": {},
   "outputs": [],
   "source": [
    "data = np.random.randn(100)  \n",
    "\n",
    "features_calculator = Features(data)\n",
    "\n",
    "# Calculate statistical features\n",
    "mean_value = features_calculator.mean()\n",
    "median_value = features_calculator.median()\n",
    "max_value = features_calculator.maximum()\n",
    "min_value = features_calculator.minimum()\n",
    "std_deviation = features_calculator.std_dev()\n",
    "variance_value = features_calculator.variance()\n",
    "data_range_value = features_calculator.data_range()\n",
    "skewness_value = features_calculator.skewness()\n",
    "kurtosis_value = features_calculator.kurtosis()\n",
    "\n",
    "# Print the calculated values\n",
    "print(\"Mean:\", mean_value)\n",
    "print(\"Median:\", median_value)\n",
    "print(\"Maximum:\", max_value)\n",
    "print(\"Minimum:\", min_value)\n",
    "print(\"Standard Deviation:\", std_deviation)\n",
    "print(\"Variance:\", variance_value)\n",
    "print(\"Range:\", data_range_value)\n",
    "print(\"Skewness:\", skewness_value)\n",
    "print(\"Kurtosis:\", kurtosis_value)\n"
   ]
  },
  {
   "cell_type": "code",
   "execution_count": null,
   "metadata": {},
   "outputs": [],
   "source": []
  }
 ],
 "metadata": {
  "language_info": {
   "name": "python"
  }
 },
 "nbformat": 4,
 "nbformat_minor": 2
}
